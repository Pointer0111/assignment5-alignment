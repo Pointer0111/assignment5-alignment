{
 "cells": [
  {
   "cell_type": "code",
   "execution_count": null,
   "metadata": {},
   "outputs": [],
   "source": [
    "from vllm import LLM, SamplingParams\n",
    "# Sample prompts.\n",
    "prompts = [\n",
    "\"Hello, my name is\",\n",
    "\"The president of the United States is\",\n",
    "\"The capital of France is\",\n",
    "\"The future of AI is\",\n",
    "]\n",
    "\n",
    "# Create a sampling params object, stopping generation on newline.\n",
    "sampling_params = SamplingParams(\n",
    "temperature=1.0, top_p=1.0, max_tokens=1024, stop=[\"\\n\"]\n",
    ")\n",
    "\n",
    "MODEL_PATH = \"Qwen2.5-Math-1.5B\"\n",
    "\n",
    "# Create an LLM.\n",
    "llm = LLM(model=MODEL_PATH)\n",
    "\n",
    "\n",
    "# Generate texts from the prompts. The output is a list of RequestOutput objects\n",
    "# that contain the prompt, generated text, and other information.\n",
    "outputs = llm.generate(prompts, sampling_params)\n",
    "\n",
    "\n",
    "# Print the outputs.\n",
    "for output in outputs:\n",
    "    prompt = output.prompt\n",
    "    generated_text = output.outputs[0].text\n",
    "    print(f\"Prompt: {prompt!r}, Generated text: {generated_text!r}\")\n"
   ]
  }
 ],
 "metadata": {
  "kernelspec": {
   "display_name": ".venv",
   "language": "python",
   "name": "python3"
  },
  "language_info": {
   "codemirror_mode": {
    "name": "ipython",
    "version": 3
   },
   "file_extension": ".py",
   "mimetype": "text/x-python",
   "name": "python",
   "nbconvert_exporter": "python",
   "pygments_lexer": "ipython3",
   "version": "3.12.11"
  }
 },
 "nbformat": 4,
 "nbformat_minor": 2
}
